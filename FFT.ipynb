{
 "cells": [
  {
   "cell_type": "code",
   "execution_count": null,
   "metadata": {},
   "outputs": [],
   "source": [
    "import math, random\n",
    "import numpy as np\n",
    "import scipy.fftpack as fft"
   ]
  },
  {
   "cell_type": "code",
   "execution_count": null,
   "metadata": {},
   "outputs": [],
   "source": [
    "# x = np.array([random.random() + 0j for _ in range(16)])\n",
    "x = np.array([\n",
    "\t0.70203658, 0.30785784, 0.80697642, 0.2063156 ,\n",
    "\t0.74611309, 0.44949445, 0.58790534, 0.94034123,\n",
    "\t0.86815133, 0.78308922, 0.51704855, 0.58557402,\n",
    "\t0.49798021, 0.43429341, 0.52435585, 0.47455634,\n",
    "])\n",
    "N, n = len(x), len(x)//2\n",
    "\n",
    "x, fft.dct(x)"
   ]
  },
  {
   "cell_type": "code",
   "execution_count": null,
   "metadata": {},
   "outputs": [],
   "source": [
    "# Single real FFT\n",
    "xe, xo = x[0::2], x[1::2]\n",
    "x2 = xe + xo*1j\n",
    "Z = fft.fft(x2)\n",
    "\n",
    "Xe = np.zeros(n, complex)\n",
    "Xo = np.zeros(n, complex)\n",
    "for i in range(n):\n",
    "\tXe[i] = (Z[i] + Z[-i].conj())*(0.5 - 0.0j)\n",
    "\tXo[i] = (Z[i] - Z[-i].conj())*(0.0 - 0.5j)\n",
    "\n",
    "X = np.zeros(N, complex)\n",
    "w, wm = 1, math.e**(-2j*math.pi/N)\n",
    "X[n] = Xe[0] - Xo[0]\n",
    "for i in range(n):\n",
    "\tXi = Xe[i] + Xo[i]*w\n",
    "\tX[i], X[-i] = Xi, Xi.conj()\n",
    "\tw *= wm\n",
    "\n",
    "\n",
    "np.round(X - fft.fft(x), 4)\n",
    "# Z, X, Xe, Xo"
   ]
  },
  {
   "cell_type": "code",
   "execution_count": null,
   "metadata": {},
   "outputs": [],
   "source": [
    "# Single real iFFT (TODO not implemented)\n",
    "X = fft.fft(x)\n",
    "\n",
    "Xe = np.zeros(n, complex)\n",
    "Xo = np.zeros(n, complex)\n",
    "for i in range(n):\n",
    "\tXe[i] = (X[i] + X[-i].conj())/2\n",
    "\tXo[i] = (X[i] - X[-i].conj())/2*math.e**(2j*math.pi*i/N)\n",
    "\n",
    "Z = Xe + Xo*1j\n",
    "# Z, X, Xe, Xo\n",
    "# fft.ifft(Z)\n",
    "\n",
    "# Z - fft.fft(x2)"
   ]
  },
  {
   "cell_type": "code",
   "execution_count": null,
   "metadata": {},
   "outputs": [],
   "source": [
    "# DCT via FFT\n",
    "xdct = np.zeros(2*N, complex)\n",
    "xdct[ 0: N: 1] = x\n",
    "xdct[-1:-N-1:-1] = x\n",
    "\n",
    "Xdct = fft.fft(xdct)[:N]\n",
    "\n",
    "# Apply half sample rotation.\n",
    "w, wm = 1, math.e**(-0.5j*math.pi/N)\n",
    "for i in range(N):\n",
    "\tXdct[i] *= w\n",
    "\tw *= wm\n",
    "\n",
    "# np.round(Xdct, 4)\n",
    "np.round(Xdct - fft.dct(x), 10)\n"
   ]
  },
  {
   "cell_type": "code",
   "execution_count": null,
   "metadata": {},
   "outputs": [],
   "source": [
    "# iDCT via iFFT\n",
    "Xdct = fft.dct(x) + 0j\n",
    "\n",
    "Xtmp = np.zeros(2*N, complex)\n",
    "\n",
    "# Apply half sample rotation.\n",
    "w, wm = 1, math.e**(0.5j*math.pi/N)\n",
    "for i in range(N):\n",
    "\tX = Xdct[i]*w\n",
    "\tXtmp[i] = X\n",
    "\tXtmp[-i] = X.conj()\n",
    "\tw *= wm\n",
    "\n",
    "xdct = fft.ifft(Xtmp)[:N]\n",
    "x, np.real(xdct)\n",
    "np.round(x - xdct)\n",
    "\n"
   ]
  },
  {
   "cell_type": "code",
   "execution_count": null,
   "metadata": {},
   "outputs": [],
   "source": [
    "# DCT via real FFT\n",
    "xdct = np.zeros(2*N, complex)\n",
    "xdct[ 0: N: 1] = x\n",
    "xdct[-1:-N-1:-1] = x\n",
    "\n",
    "xe, xo = xdct[0::2], xdct[1::2]\n",
    "xdct = xe + xo*1j\n",
    "Z = fft.fft(xdct)\n",
    "\n",
    "Xe = np.zeros(N, complex)\n",
    "Xo = np.zeros(N, complex)\n",
    "Xdct = np.zeros(N, complex)\n",
    "w, wm = 1, math.e**(-0.5j*math.pi/N)\n",
    "for i in range(N):\n",
    "\tXe[i] = (Z[i] + Z[-i].conj())*(0.5 - 0.0j)\n",
    "\tXo[i] = (Z[i] - Z[-i].conj())*(0.0 - 0.5j)\n",
    "\tXdct[i] = (Xe[i] + Xo[i]*w*w)*w\n",
    "\tw *= wm\n",
    "\n",
    "# w, wm = 1, math.e**(-0.5j*math.pi/N)\n",
    "# for i in range(N):\n",
    "# \tXdct[i] = (Xe[i] + Xo[i]*w*w)\n",
    "# \tw *= wm\n",
    "\n",
    "# w, wm = 1, math.e**(-0.5j*math.pi/N)\n",
    "# for i in range(N):\n",
    "# \tXdct[i] *= w\n",
    "# \tw *= wm\n",
    "\n",
    "# Xe, Xo\n",
    "# Z, fft.ifft(Z)\n",
    "# xdct\n",
    "# Xdct, fft.dct(x)\n",
    "np.round(Xdct - fft.dct(x), 5)"
   ]
  },
  {
   "cell_type": "code",
   "execution_count": null,
   "metadata": {},
   "outputs": [],
   "source": [
    "# iDCT via real iFFT\n",
    "Xdct = fft.dct(x) + 0j\n",
    "\n",
    "# Apply half sample rotation.\n",
    "w, wm = 0.5, math.e**(0.5j*math.pi/N)\n",
    "for i in range(N):\n",
    "\tXdct[i] *= w\n",
    "\tw *= wm\n",
    "\n",
    "Xe = np.zeros(N, complex)\n",
    "Xo = np.zeros(N, complex)\n",
    "Z = np.zeros(N, complex)\n",
    "w, wm = 1, math.e**(1j*math.pi/N)\n",
    "for i in range(N):\n",
    "\tXe[i] = (Xdct[i] + Xdct[-i].conj())\n",
    "\tXo[i] = (Xdct[i] - Xdct[-i].conj())*w\n",
    "\tZ[i] = Xe[i] + Xo[i]*1j\n",
    "\tw *= wm\n",
    "\n",
    "Z[0] *= complex(0.5, 0.5)\n",
    "z = fft.fft(Z.conj()).conj()/16\n",
    "z\n",
    "\n",
    "# np.round(xdct - z, 5)"
   ]
  },
  {
   "cell_type": "code",
   "execution_count": null,
   "metadata": {},
   "outputs": [],
   "source": []
  }
 ],
 "metadata": {
  "interpreter": {
   "hash": "31f2aee4e71d21fbe5cf8b01ff0e069b9275f58929596ceb00d14d90e3e16cd6"
  },
  "kernelspec": {
   "display_name": "Python 3.10.4 64-bit",
   "language": "python",
   "name": "python3"
  },
  "language_info": {
   "codemirror_mode": {
    "name": "ipython",
    "version": 3
   },
   "file_extension": ".py",
   "mimetype": "text/x-python",
   "name": "python",
   "nbconvert_exporter": "python",
   "pygments_lexer": "ipython3",
   "version": "3.10.4"
  },
  "orig_nbformat": 4
 },
 "nbformat": 4,
 "nbformat_minor": 2
}
