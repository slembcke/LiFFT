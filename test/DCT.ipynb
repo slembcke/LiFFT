{
 "cells": [
  {
   "cell_type": "code",
   "execution_count": null,
   "id": "fdab8b90-0b12-4a14-bdd5-3543739ea9c5",
   "metadata": {},
   "outputs": [],
   "source": [
    "using FFTW\n",
    "using Plots"
   ]
  },
  {
   "cell_type": "code",
   "execution_count": null,
   "id": "14ee33e6-e0e9-463b-a261-9196a8c6805e",
   "metadata": {},
   "outputs": [],
   "source": [
    "flip_idx(i, n) = -(i - 1) & (n - 1) + 1\n",
    "lin_phase(x, θ) = x.*cispi.((0:length(x) - 1).*(θ/N))\n",
    "\n",
    "x = [681, 683, 414, 987, 336, 583, 121, 772]\n",
    "X = fft(x)\n",
    "x2 = [x; reverse(x)]\n",
    "X2 = fft(x2)\n",
    "N = length(x)"
   ]
  },
  {
   "cell_type": "code",
   "execution_count": null,
   "id": "cd9e1b1c-17e3-4d1a-aacc-3bc3119b0d66",
   "metadata": {},
   "outputs": [],
   "source": [
    "# Calculate the whole thing\n",
    "round.(lin_phase(X2, -0.5))"
   ]
  },
  {
   "cell_type": "code",
   "execution_count": null,
   "id": "408f8bf4-0c0f-46fe-a5b8-ce25a3a11b08",
   "metadata": {},
   "outputs": [],
   "source": [
    "round.([X lin_phase(fft(reverse(x)), -2)])"
   ]
  },
  {
   "cell_type": "code",
   "execution_count": null,
   "id": "3e41a62a-f6d4-44bf-b71b-d256e5e7ecbb",
   "metadata": {},
   "outputs": [],
   "source": [
    "Xe = fft(x2[1:2:2N])\n",
    "Xo = conj(lin_phase(Xe, -1))\n",
    "round.(lin_phase(Xe + Xo, -0.5))"
   ]
  },
  {
   "cell_type": "code",
   "execution_count": null,
   "id": "c242c66e-b319-42e9-8abe-72648cc282be",
   "metadata": {},
   "outputs": [],
   "source": [
    "x = x2\n",
    "N = length(x)\n",
    "\n",
    "xe, xo = x[1:2:N], x[2:2:N]\n",
    "Xeo = fft(xe + xo*im)/2\n",
    "\n",
    "X = zeros(Complex, N÷2 + 1)\n",
    "w0, w0m = -im, cispi(-2/N)\n",
    "w1, w1m = 1, cispi(-1/N)\n",
    "for i in 1:N÷4 + 1\n",
    "    p = Xeo[i]\n",
    "    q = conj(Xeo[flip_idx(i, N÷2)])\n",
    "    Xei = (p + q)\n",
    "    Xowi = (p - q)*w0\n",
    "    X[i] = (Xei + Xowi)*w1\n",
    "    X[N÷2 - i + 2] = conj(Xei - Xowi)*-im*conj(w1)\n",
    "    w0 *= w0m\n",
    "    w1 *= w1m\n",
    "end\n",
    "\n",
    "round.(lin_phase(X, -0))"
   ]
  },
  {
   "cell_type": "code",
   "execution_count": null,
   "id": "9d584f3d-0e23-4e78-9397-84d7511249f9",
   "metadata": {},
   "outputs": [],
   "source": []
  }
 ],
 "metadata": {
  "kernelspec": {
   "display_name": "Julia 1.8.0",
   "language": "julia",
   "name": "julia-1.8"
  },
  "language_info": {
   "file_extension": ".jl",
   "mimetype": "application/julia",
   "name": "julia",
   "version": "1.8.0"
  }
 },
 "nbformat": 4,
 "nbformat_minor": 5
}
