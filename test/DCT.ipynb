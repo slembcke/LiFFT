{
 "cells": [
  {
   "cell_type": "code",
   "execution_count": null,
   "id": "fdab8b90-0b12-4a14-bdd5-3543739ea9c5",
   "metadata": {},
   "outputs": [],
   "source": [
    "using FFTW\n",
    "using Plots"
   ]
  },
  {
   "cell_type": "code",
   "execution_count": null,
   "id": "14ee33e6-e0e9-463b-a261-9196a8c6805e",
   "metadata": {},
   "outputs": [],
   "source": [
    "flip_idx(i, n) = -(i - 1) & (n - 1) + 1\n",
    "lin_phase(x, θ) = x.*cispi.((0:length(x) - 1).*(θ/N))\n",
    "\n",
    "x = [681, 683, 414, 987, 336, 583, 121, 772]\n",
    "X = fft(x)\n",
    "x2 = [x; reverse(x)]\n",
    "X2 = fft(x2)\n",
    "N = length(x)"
   ]
  },
  {
   "cell_type": "code",
   "execution_count": null,
   "id": "cd9e1b1c-17e3-4d1a-aacc-3bc3119b0d66",
   "metadata": {},
   "outputs": [],
   "source": [
    "# Calculate the whole thing using a -half sample rotation instead of 0's\n",
    "round.(lin_phase(X2, -0.5))"
   ]
  },
  {
   "cell_type": "code",
   "execution_count": null,
   "id": "3e41a62a-f6d4-44bf-b71b-d256e5e7ecbb",
   "metadata": {},
   "outputs": [],
   "source": [
    "# Compute only the even elements and use conjugate symmetry for the other half\n",
    "Xe = fft(x2[1:2:2N])\n",
    "Xo = conj(lin_phase(Xe, -1))\n",
    "round.(lin_phase(Xe + Xo, -0.5))"
   ]
  },
  {
   "cell_type": "code",
   "execution_count": null,
   "id": "029c9805-3345-4ecf-b5d8-fdeca711b3bd",
   "metadata": {},
   "outputs": [],
   "source": [
    "# Calculate above using just real valued even fft coefficients\n",
    "Xe = rfft(x2[1:2:2N])\n",
    "X = zeros(Complex, N)\n",
    "foo = zeros(Complex, N÷2 +1)\n",
    "w = 1\n",
    "for i in 1:N÷2 + 1\n",
    "    foo[i] = p = 2*Xe[i]*w\n",
    "    w *= cispi(-0.5/N)\n",
    "    \n",
    "    X[flip_idx(i, N)] = -imag(p)\n",
    "    X[i] = real(p)\n",
    "end\n",
    "\n",
    "round.([Xe foo/2])"
   ]
  },
  {
   "cell_type": "code",
   "execution_count": null,
   "id": "5bfb68aa-1df4-4954-8c50-d51e75c51276",
   "metadata": {},
   "outputs": [],
   "source": []
  }
 ],
 "metadata": {
  "kernelspec": {
   "display_name": "Julia 1.8.2",
   "language": "julia",
   "name": "julia-1.8"
  },
  "language_info": {
   "file_extension": ".jl",
   "mimetype": "application/julia",
   "name": "julia",
   "version": "1.8.2"
  }
 },
 "nbformat": 4,
 "nbformat_minor": 5
}
