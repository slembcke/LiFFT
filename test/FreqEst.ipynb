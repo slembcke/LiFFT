{
 "cells": [
  {
   "cell_type": "code",
   "execution_count": null,
   "id": "05675329-4e3e-40b1-8ebd-5a8098846498",
   "metadata": {},
   "outputs": [],
   "source": [
    "using Plots\n",
    "using FFTW\n",
    "using DSP"
   ]
  },
  {
   "cell_type": "code",
   "execution_count": null,
   "id": "9a6fa349-4a41-468f-97cd-d42f5847a508",
   "metadata": {},
   "outputs": [],
   "source": [
    "fs = 8\n",
    "N = 128\n",
    "len = 2*N\n",
    "\n",
    "f = 0.132\n",
    "x = cos.((0:len - 1)*(f*2π/fs))\n",
    "\n",
    "plot(plot(x), plot(abs.(rfft(x))))"
   ]
  },
  {
   "cell_type": "code",
   "execution_count": null,
   "id": "af1972c4-9ac3-4e4e-b3d6-131e6c719603",
   "metadata": {},
   "outputs": [],
   "source": [
    "idxs, step = 1:N, 1\n",
    "w = triang(N)\n",
    "X0 = rfft(w.*x[idxs .+ 4*step])\n",
    "X1 = rfft(w.*x[idxs .+ 5*step])\n",
    "\n",
    "overlap_factor = N/step\n",
    "expect = cis(-2π/overlap_factor)\n",
    "println(\"N:$N, step:$step, overlap:$(overlap_factor)x\")\n",
    "println(\"fstep:$(fs/N), expect:$(round(expect; digits=2))\")\n",
    "\n",
    "for i in 0:8\n",
    "    idx = Int(i + 1)\n",
    "    Δθ = angle(X1[idx]*conj(X0[idx])*(expect^i))\n",
    "    fi = (fs/N)*(i + Δθ*overlap_factor/2π)\n",
    "    mag = round(abs(X0[idx]))\n",
    "    println(\"$(i): $(round(fi; digits=4))s mag:$(round(mag))\")\n",
    "end"
   ]
  },
  {
   "cell_type": "code",
   "execution_count": null,
   "id": "bf2afa7d-bcb1-467d-872a-e957832c1c50",
   "metadata": {},
   "outputs": [],
   "source": [
    "plot(w)\n",
    "plot!(w.*x[idxs .+ 16])"
   ]
  },
  {
   "cell_type": "code",
   "execution_count": null,
   "id": "e80f65ac-8f4a-4782-bded-9c9842180d98",
   "metadata": {},
   "outputs": [],
   "source": []
  }
 ],
 "metadata": {
  "kernelspec": {
   "display_name": "Julia 1.8.1",
   "language": "julia",
   "name": "julia-1.8"
  },
  "language_info": {
   "file_extension": ".jl",
   "mimetype": "application/julia",
   "name": "julia",
   "version": "1.8.2"
  }
 },
 "nbformat": 4,
 "nbformat_minor": 5
}
