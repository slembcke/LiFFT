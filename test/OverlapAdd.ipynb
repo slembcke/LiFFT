{
 "cells": [
  {
   "cell_type": "code",
   "execution_count": null,
   "id": "711ff4d2-147c-48c0-ba80-f28536f2d292",
   "metadata": {},
   "outputs": [],
   "source": [
    "using Plots\n",
    "using DSP\n",
    "using FFTW"
   ]
  },
  {
   "cell_type": "code",
   "execution_count": null,
   "id": "7971177e-d4bc-408f-a5d7-e788ba8d9703",
   "metadata": {},
   "outputs": [],
   "source": [
    "Nx = 256\n",
    "x = rand(Nx)\n",
    "# x = sin.(8*π/N*(1:Nx))\n",
    "\n",
    "X = rfft(x)\n",
    "X[1] = 0\n",
    "X .*= exp.(-4e-2*(1:Nx/2+1))\n",
    "x = irfft(X, Nx)\n",
    "plot(x)"
   ]
  },
  {
   "cell_type": "code",
   "execution_count": null,
   "id": "560f6929-0320-4e6e-b561-b4df5e38600e",
   "metadata": {},
   "outputs": [],
   "source": [
    "Nw = 32\n",
    "# y = 1 .- range(-1, 1, Nw).^2\n",
    "# y = sinc.(range(-4, 4, Nw))\n",
    "\n",
    "r = range(-2, 2, Nw)\n",
    "y = imag.(exp.(-0.5.*r.^2).*(cispi.(r) .+ 0.5))\n",
    "\n",
    "y *= 1.0/sum(abs.(y))\n",
    "plot(y)"
   ]
  },
  {
   "cell_type": "code",
   "execution_count": null,
   "id": "dcf62980-9fa4-4bee-92a9-3a20291e6135",
   "metadata": {},
   "outputs": [],
   "source": [
    "i = 1:Nx\n",
    "plot(i, x)\n",
    "\n",
    "Y = rfft([y; zeros(Nx - Nw)])\n",
    "plot!(i .- Nw/2, irfft(rfft(x).*Y, Nx))"
   ]
  },
  {
   "cell_type": "code",
   "execution_count": null,
   "id": "32eec269-3947-403f-9f20-838f449f3689",
   "metadata": {},
   "outputs": [],
   "source": [
    "Y = rfft([y; zeros(Nw)])\n",
    "prev = zeros(Nw)\n",
    "z = zeros(Nx)\n",
    "\n",
    "for i in 1:Nw:Nx\n",
    "    idxs = i:i + Nw - 1\n",
    "    X = rfft([x[idxs]; zeros(Nw)])\n",
    "    foo = irfft(X.*Y, 2*Nw)\n",
    "    z[idxs] .= prev .+ foo[1:Nw]\n",
    "    prev = foo[Nw + 1:2*Nw]\n",
    "end\n",
    "\n",
    "i = 1:Nx\n",
    "plot(i, x)\n",
    "plot!(i .- Nw/2, z)"
   ]
  },
  {
   "cell_type": "code",
   "execution_count": null,
   "id": "5bd011e2-4193-4b52-84f4-35ba82fa396b",
   "metadata": {},
   "outputs": [],
   "source": [
    "plot(w)"
   ]
  },
  {
   "cell_type": "code",
   "execution_count": null,
   "id": "f11c66a1-6c48-490f-84a5-3ec259de819c",
   "metadata": {},
   "outputs": [],
   "source": []
  }
 ],
 "metadata": {
  "kernelspec": {
   "display_name": "Julia 1.8.0",
   "language": "julia",
   "name": "julia-1.8"
  },
  "language_info": {
   "file_extension": ".jl",
   "mimetype": "application/julia",
   "name": "julia",
   "version": "1.8.0"
  }
 },
 "nbformat": 4,
 "nbformat_minor": 5
}
