{
 "cells": [
  {
   "cell_type": "code",
   "execution_count": null,
   "id": "30e91480-cc7c-4e13-864e-8408b14c46f1",
   "metadata": {},
   "outputs": [],
   "source": [
    "using Plots\n",
    "using FFTW"
   ]
  },
  {
   "cell_type": "code",
   "execution_count": null,
   "id": "a4b45c7b-4daa-48ab-8cc0-3f65452af7c2",
   "metadata": {},
   "outputs": [],
   "source": [
    "# Reflect index as -i&(n - 1), but for 1-based indexes\n",
    "flip_idx(i, n) = -(i - 1)&(n - 1) + 1\n",
    "\n",
    "x = [681, 683, 414, 987, 336, 583, 121, 772]\n",
    "y = [354, 929, 058, 303, 314, 552, 248, 280]\n",
    "N = length(x)\n",
    "\n",
    "round.([fft(x) fft(y)])[1:N÷2 + 1, :]"
   ]
  },
  {
   "cell_type": "code",
   "execution_count": null,
   "id": "bca8434f-bb4a-4b00-8ec9-3e2c4465e164",
   "metadata": {},
   "outputs": [],
   "source": [
    "# Calculate simultaneous real FFTs\n",
    "n = N÷2 + 1\n",
    "X, Y = zeros(Complex, n), zeros(Complex, n)\n",
    "\n",
    "# Combine x and y, then calculate it's FFT\n",
    "XY = fft(x + y*im)/2\n",
    "\n",
    "# Now separate the two using even/odd symmetry property\n",
    "for i in 1:n\n",
    "    s = XY[i]\n",
    "    t = conj(XY[flip_idx(i, N)])\n",
    "    X[i] = (s + t)\n",
    "    Y[i] = (s - t)*im\n",
    "end\n",
    "\n",
    "round.([X Y])"
   ]
  },
  {
   "cell_type": "code",
   "execution_count": null,
   "id": "22fe44cc-1c82-4a01-8eeb-49d2da8b604b",
   "metadata": {},
   "outputs": [],
   "source": [
    "# Calculate real valued FFT\n",
    "X = zeros(Complex, N÷2 + 1)\n",
    "\n",
    "# Calculate FFTs of evens and odds simultaneously\n",
    "xe, xo = x[1:2:N], x[2:2:N]\n",
    "Xeo = fft(xe + xo*im)/2\n",
    "\n",
    "w, wm = -im, cispi(-2/N)\n",
    "for i in 1:N÷4 + 1\n",
    "    p = Xeo[i]\n",
    "    q = conj(Xeo[flip_idx(i, N÷2)])\n",
    "    Xei = (p + q)\n",
    "    Xowi = (p - q)*w\n",
    "    X[i] = Xei + Xowi\n",
    "    X[N÷2 - i + 2] = conj(Xei - Xowi)\n",
    "    w *= wm\n",
    "end\n",
    "\n",
    "round.([X rfft(x)])"
   ]
  },
  {
   "cell_type": "code",
   "execution_count": null,
   "id": "f6423fc8-f71b-4fd8-bed3-d106c32b09fa",
   "metadata": {},
   "outputs": [],
   "source": [
    "# Calculate real valued ifft\n",
    "X = rfft(x)\n",
    "Xeo = zeros(ComplexF64, N÷2)\n",
    "\n",
    "w, wm = im, cispi(2/N)\n",
    "for i in 1:N÷4 + 1\n",
    "    p = X[i]\n",
    "    q = conj(X[N÷2 - i + 2])\n",
    "    Xei = (p + q)\n",
    "    Xoi = (p - q)*w\n",
    "    Xeo[i] = conj(Xei + Xoi)\n",
    "    Xeo[flip_idx(i, N÷2)] = (Xei - Xoi)\n",
    "    w *= wm\n",
    "end\n",
    "xeo = fft(Xeo)/N\n",
    "[x reshape(transpose([real(xeo) -imag(xeo)]), N)]"
   ]
  },
  {
   "cell_type": "code",
   "execution_count": null,
   "id": "e5e9f22f-6c27-4d17-8d33-2b7a26c9a0f4",
   "metadata": {},
   "outputs": [],
   "source": []
  }
 ],
 "metadata": {
  "kernelspec": {
   "display_name": "Julia 1.8.2",
   "language": "julia",
   "name": "julia-1.8"
  },
  "language_info": {
   "file_extension": ".jl",
   "mimetype": "application/julia",
   "name": "julia",
   "version": "1.8.2"
  }
 },
 "nbformat": 4,
 "nbformat_minor": 5
}
